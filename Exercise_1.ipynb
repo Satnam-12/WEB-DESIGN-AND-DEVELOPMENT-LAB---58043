{
  "nbformat": 4,
  "nbformat_minor": 0,
  "metadata": {
    "colab": {
      "name": "Exercise 1",
      "provenance": [],
      "collapsed_sections": [],
      "authorship_tag": "ABX9TyP22vYt753EDNViVijvF0Aw",
      "include_colab_link": true
    },
    "kernelspec": {
      "name": "python3",
      "display_name": "Python 3"
    },
    "language_info": {
      "name": "python"
    }
  },
  "cells": [
    {
      "cell_type": "markdown",
      "metadata": {
        "id": "view-in-github",
        "colab_type": "text"
      },
      "source": [
        "<a href=\"https://colab.research.google.com/github/Satnam-12/WEB-DESIGN-AND-DEVELOPMENT-LAB---58043/blob/main/Exercise_1.ipynb\" target=\"_parent\"><img src=\"https://colab.research.google.com/assets/colab-badge.svg\" alt=\"Open In Colab\"/></a>"
      ]
    },
    {
      "cell_type": "markdown",
      "source": [
        "##Solve for the area of the circle"
      ],
      "metadata": {
        "id": "s3LcmCIOlGKa"
      }
    },
    {
      "cell_type": "code",
      "execution_count": null,
      "metadata": {
        "colab": {
          "base_uri": "https://localhost:8080/"
        },
        "id": "wuECjZcBTj0-",
        "outputId": "e208cfbb-c083-473d-dcbd-4e0d5094df8b"
      },
      "outputs": [
        {
          "output_type": "stream",
          "name": "stdout",
          "text": [
            "Radius of the given circle: 2\n",
            " The area of the given circle is:  12.56\n"
          ]
        }
      ],
      "source": [
        "import numpy as np #Matrix\n",
        "π = 3.14 #Radius\n",
        "Radius = float (input (\"Radius of the given circle: \"))  \n",
        "area_of_the_circle = π * (Radius * Radius) #Formula\n",
        "print (\" The area of the given circle is: \", area_of_the_circle) #Final Output\n"
      ]
    }
  ]
}